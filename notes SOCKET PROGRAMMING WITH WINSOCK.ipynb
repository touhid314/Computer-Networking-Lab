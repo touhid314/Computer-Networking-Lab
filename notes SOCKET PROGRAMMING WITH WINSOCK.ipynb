{
 "cells": [
  {
   "attachments": {},
   "cell_type": "markdown",
   "metadata": {},
   "source": [
    "we are not directly using winsock library. we are instead using the helper.cpp file.\n",
    "\n",
    "<b> workflow with sockets:</b>\n",
    "* create a socket \\\n",
    "\t`SOCKET socket_name = create_socket();`\n",
    "\n",
    "* bind the socket with a port \\\n",
    "\t`success = bind_socket(socket_name, 0, 8888); //8888 is port number` \n",
    "\n",
    "* connect to another socket \\\n",
    "`\tbool success = connect_to_server(socket_s, server_ip, 8888); //8888 is the port of the server socket`\n",
    "        \n",
    "\twith the socket_s, we can now send data to the server port and receive data from the server using send_to_socket() and receive_from_socket() function \n",
    "\n",
    "* make a socket listen for connection \\\n",
    "`\tlisten_for_connections(socket_name, 1);`\n",
    "\t\n",
    "\tthis creates a thread, that continues to run on the background and continuosly listens for connection. \n",
    "\n",
    "* accept connection from another socket \\\n",
    "`\tSOCKET connected_socket = accept_connection(socket_name); //connection destined for the socket_name socket's port will be accepted`\n",
    "\t\n",
    "\tNOTE: accept_connection is a stopper function. that is, it will stop the execution of the progrma until it accepts a connection.\n",
    "\n",
    "* send data to connected socket \\\n",
    "\t-send text\n",
    "\t\n",
    "\t`char msg_send[1000];\n",
    "\tbool success = send_to_socket(destination_socket, msg_send);`\n",
    "\t\n",
    "\t-send file \n",
    "\n",
    "\t`char buffer[1024]; //buffer is the variable where the bytes read is stored` \\\n",
    "\t`bytesRead = fread(buffer, 1, sizeof(buffer), file_to_read_from)` \\\n",
    "\t`bool success = send_to_socket(destination_socket, buffer, bytesRead);` \n",
    "        \n",
    "\tNOTE: send_to_socket is a stopper function. that is it will stop the execution of the program, until it receives something \tfrom the specified socket. hence it is better to to declare this function in a seperate thread. \n",
    "\n",
    "* receive data from connected socket\\\n",
    "\t`char msg_recv[1000]\n",
    "\tint msg_len = receive_from_socket(socket_to_receive_from, msg_recv, 1000);`\n",
    "\n",
    "\tNOTE: receive_from_socket is a stopper function. that is it will stop the execution of the program, until it receives \tsomething from the specified socket. hence it is better to to declare this function in a seperate thread. \n",
    "\n",
    "** create a thread in C \\\n",
    "`\tcreate_socket_thread(thread_function, arg_to_the_function);`\n",
    "     "
   ]
  }
 ],
 "metadata": {
  "language_info": {
   "name": "python"
  },
  "orig_nbformat": 4
 },
 "nbformat": 4,
 "nbformat_minor": 2
}
